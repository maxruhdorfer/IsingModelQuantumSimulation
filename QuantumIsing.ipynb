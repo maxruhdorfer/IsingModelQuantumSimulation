{
 "cells": [
  {
   "cell_type": "markdown",
   "id": "47d1f22d",
   "metadata": {},
   "source": [
    "# 1D Ising Model Simulation on Quanumt Computer\n",
    "The goal here is to simulate the 1D Ising Model on a Quatum Computer, i.e. we design a Quantum Circuit which performs a quantum simulation of the 1D Ising Hamiltonian and performs a measurement of the magnetization."
   ]
  },
  {
   "cell_type": "markdown",
   "id": "629825a6",
   "metadata": {},
   "source": [
    "## 1D Ising Model\n",
    "The Ising model describes spin-spin interactions and was conceived as a model for ferromagnetism in statistical physics. It is one of the simplest, analytically solvable (for $D=1,2$) models which feature phase transitions. The 1D realization which we consider here does not have a thermal phase transition but a quantum phase transition, which we will study here. Quantum phase transition means that for a specific value of the external magnetic field the ground state and thus the magnetization abruptly jumps.\n",
    "\n",
    "The Hamiltonian for the $1D$ model for $N$ spins $\\vec{S}_i,\\, i=0,\\ldots ,N-1$ and a transverse magnetric field with magnitude $h$ (which we take to be in the $x$-direction) is given by\n",
    "$$\n",
    "H = -J \\sum_{i=0}^{N-2} S_i^z S_{i+1}^z - h \\sum_{i=0}^{N-1} S_i^x\\,,\n",
    "$$\n",
    "where $S_i^z$ and $S_i^x$ are the spin projections in the $z$ and $x$ direction, respectively. $J$ is the interaction energy which we take to be $J=1$ in the following, i.e. $h$ is measured in units of $J$ and $t$ in units of $1/J$.\n",
    "\n",
    "We can express this Hamiltonian in terms of Pauli matrices in order to turn it into an operator that can be acted on $N$ qubit states which model the spins $|s_0\\cdots s_{N-1}\\rangle$\n",
    "$$\n",
    "H = - \\sum_{i=0}^{N-2} Z_i Z_{i+1} - h \\sum_{i=0}^{N-1} X_i\\,,\n",
    "$$\n",
    "where this notation means that the Pauli matrices $Z_i$ and $X_i$ are applied to the $i$-th qubit. A more accurate representation includes the tensor products with the identity matrices applied to the remaining spins. As an explicit example, let us consider $N=3$. In this case the Hamiltonian takes the explicit form\n",
    "$$\n",
    "H = -Z_1 \\otimes Z_2 \\otimes I  -  I \\otimes Z_2 \\otimes Z_3 - h\\left( X_1\\otimes I \\otimes I + I \\otimes X_2 \\otimes I + I\\otimes I \\otimes X_3\\right)\\,,\n",
    "$$\n",
    "where $I$ is the identity matrix.\n",
    "\n",
    "Finally, let us define the magnetization $M$, which is the average of the spin sum in the $z$ direction\n",
    "$$\n",
    "M = \\frac{1}{N}\\sum_{i=0}^{N-1} S_i^z\\,.\n",
    "$$"
   ]
  },
  {
   "cell_type": "markdown",
   "id": "aae85838",
   "metadata": {},
   "source": [
    "## Quantum Hamiltonian Simulation\n",
    "The time evoluation of a quantum state $|\\psi\\rangle$ under the Hamiltonian $H$ is given by the Schr\\\"odinger equation (setting $\\hbar = 1$)\n",
    "$$\n",
    "\\frac{d|\\psi\\rangle}{dt} = -i H |\\psi\\rangle\\,.\n",
    "$$\n",
    "The solution to this is\n",
    "$$\n",
    "|\\psi (t)\\rangle = e^{-i H t} |\\psi (0)\\rangle\\,.\n",
    "$$\n",
    "For a Hamiltonian that is a tensor product of Pauli matrices $H = \\alpha\\, \\sigma_1 \\otimes \\sigma_2 \\otimes \\cdots \\otimes \\sigma_n$ this can easily be implemented through simple quantum gates. Via unitary operators we can diagonalize the Hamiltonian, i.e. we can express it in terms of the third Pauli matrix only, i.e.\n",
    "$$\n",
    "e^{-i t H} = (U_1 \\otimes U_2 \\otimes \\cdots \\otimes U_n) e^{-i\\alpha t\\, Z_1\\otimes Z_2\\otimes \\cdots \\otimes Z_n} (U_1^\\dagger \\otimes U_2^\\dagger \\otimes \\cdots \\otimes U_n^\\dagger)\\,,\n",
    "$$\n",
    "where $Z_i$ is the third Pauli matrix acting on the $i$-th qubit. Using that\n",
    "$$\n",
    "e^{-i\\alpha t\\, Z_1\\otimes Z_2\\otimes \\cdots \\otimes Z_n} |s_1 \\cdots s_n\\rangle = e^{-i\\alpha t (-1)^{\\oplus_i s_i}}|s_1 \\cdots s_n\\rangle\\,,\n",
    "$$\n",
    "this can be implemented by constructing $s_1 \\oplus s_2 \\oplus \\cdots \\oplus s_n$ in the last qubit with CNOT gates, followed by a $R_z(-\\alpha t)$ rotation on the last qubit and the same sequence of CNOT gates in the reverse order to restore the initial state. If the sequence of Pauli matrices contains an identity, the qubit that the identity acts on can simply be ignored. The $U_i$ are easily found using the identities\n",
    "$$\n",
    "\\sigma_y = S H \\sigma_z H^\\dagger S^\\dagger\\,,\\quad \\sigma_x = H \\sigma_z H^\\dagger\\,.\n",
    "$$\n",
    "As a last step we can "
   ]
  },
  {
   "cell_type": "markdown",
   "id": "62db71ac",
   "metadata": {},
   "source": []
  }
 ],
 "metadata": {
  "language_info": {
   "name": "python"
  }
 },
 "nbformat": 4,
 "nbformat_minor": 5
}
