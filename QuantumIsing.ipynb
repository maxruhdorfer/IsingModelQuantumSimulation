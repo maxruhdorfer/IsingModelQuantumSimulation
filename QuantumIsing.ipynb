{
 "cells": [
  {
   "cell_type": "markdown",
   "id": "47d1f22d",
   "metadata": {},
   "source": [
    "# 1D Ising Model Simulation on Quanumt Computer\n",
    "The goal here is to simulate the 1D Ising Model on a Quatum Computer, i.e. we design a Quantum Circuit which performs a quantum simulation of the 1D Ising Hamiltonian and performs a measurement of the magnetization."
   ]
  },
  {
   "cell_type": "markdown",
   "id": "62db71ac",
   "metadata": {},
   "source": []
  }
 ],
 "metadata": {
  "language_info": {
   "name": "python"
  }
 },
 "nbformat": 4,
 "nbformat_minor": 5
}
